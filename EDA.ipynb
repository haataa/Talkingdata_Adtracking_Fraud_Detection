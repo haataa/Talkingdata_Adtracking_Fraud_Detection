{
 "cells": [
  {
   "cell_type": "markdown",
   "metadata": {},
   "source": [
    "# Introduction\n",
    "There are some interesting facts that this competition attracts me.\n",
    "- Data size is very large:240 million rows\n",
    "- Imbalanced data\n",
    "- Use ROC-AUC as performance metrics\n",
    "- Real life problem"
   ]
  },
  {
   "cell_type": "markdown",
   "metadata": {},
   "source": [
    "# Data EDA\n",
    "refer to those solutions\n",
    "https://www.kaggle.com/c/talkingdata-adtracking-fraud-detection/discussion/56283\n",
    "\n",
    "https://www.kaggle.com/c/talkingdata-adtracking-fraud-detection/discussion/56328\n",
    "\n",
    "https://www.kaggle.com/c/talkingdata-adtracking-fraud-detection/discussion/56268\n",
    "\n",
    "https://www.kaggle.com/c/talkingdata-adtracking-fraud-detection/discussion/56406\n",
    "\n",
    "https://www.kaggle.com/c/talkingdata-adtracking-fraud-detection/discussion/56325\n",
    "\n",
    "https://www.kaggle.com/c/talkingdata-adtracking-fraud-detection/discussion/56481\n",
    "\n",
    "https://www.kaggle.com/c/talkingdata-adtracking-fraud-detection/discussion/56429\n",
    "\n",
    "https://www.kaggle.com/c/talkingdata-adtracking-fraud-detection/discussion/56422\n",
    "\n",
    "https://www.kaggle.com/c/talkingdata-adtracking-fraud-detection/discussion/56475#latest-436248\n",
    "\n",
    "https://www.kaggle.com/c/talkingdata-adtracking-fraud-detection/discussion/56262#latest-517655"
   ]
  },
  {
   "cell_type": "markdown",
   "metadata": {},
   "source": [
    "# Load Data"
   ]
  },
  {
   "cell_type": "code",
   "execution_count": 110,
   "metadata": {},
   "outputs": [],
   "source": [
    "import gc\n",
    "import os\n",
    "import numpy as np\n",
    "import pandas as pd\n",
    "import subprocess\n",
    "import seaborn as sns\n",
    "import matplotlib.pyplot as plt\n",
    "import xgboost as xgb"
   ]
  },
  {
   "cell_type": "markdown",
   "metadata": {},
   "source": [
    "## Check File Size"
   ]
  },
  {
   "cell_type": "code",
   "execution_count": 144,
   "metadata": {},
   "outputs": [],
   "source": [
    "def check_fsize(dpath,s=30):\n",
    "    \"\"\"check file size\n",
    "    Args:\n",
    "    dpath: file directory\n",
    "    s: string length in total after padding\n",
    "    \n",
    "    Returns:\n",
    "    None\n",
    "    \"\"\"\n",
    "    for f in os.listdir(dpath):\n",
    "        print(f.ljust(s) + str(round(os.path.getsize(dpath+'/' + f) / 1000000, 2)) + 'MB')"
   ]
  },
  {
   "cell_type": "code",
   "execution_count": 145,
   "metadata": {},
   "outputs": [
    {
     "name": "stdout",
     "output_type": "stream",
     "text": [
      "sample_submission.csv.zip     41.74MB\n",
      "test_supplement.csv.zip       528.08MB\n",
      "test.csv                      863.27MB\n",
      "train_sample.csv.zip          1.13MB\n",
      "train.csv                     7537.65MB\n",
      "test.csv.zip                  173.03MB\n",
      "train.csv.zip                 1298.59MB\n",
      "train_sample.csv              4.08MB\n",
      "test_supplement.csv           2665.54MB\n",
      ".ipynb_checkpoints            0.0MB\n"
     ]
    }
   ],
   "source": [
    "check_fsize('./data')"
   ]
  },
  {
   "cell_type": "code",
   "execution_count": 146,
   "metadata": {},
   "outputs": [],
   "source": [
    "def check_fline(fpath):\n",
    "    \"\"\"check total number of lines of file for large files\n",
    "    \n",
    "    Args:\n",
    "    fpath: string. file path\n",
    "    \n",
    "    Returns:\n",
    "    None\n",
    "    \n",
    "    \"\"\"\n",
    "    lines = subprocess.run(['wc', '-l', fpath], stdout=subprocess.PIPE).stdout.decode('utf-8')\n",
    "    print(lines, end='', flush=True)"
   ]
  },
  {
   "cell_type": "code",
   "execution_count": 149,
   "metadata": {},
   "outputs": [
    {
     "name": "stdout",
     "output_type": "stream",
     "text": [
      "184903891 ./data/train.csv\n",
      "18790470 ./data/test.csv\n",
      "100001 ./data/train_sample.csv\n"
     ]
    },
    {
     "data": {
      "text/plain": [
       "[None, None, None]"
      ]
     },
     "execution_count": 149,
     "metadata": {},
     "output_type": "execute_result"
    }
   ],
   "source": [
    "fs=['./data/train.csv', './data/test.csv', './data/train_sample.csv']\n",
    "[check_fline(s) for s in fs]"
   ]
  },
  {
   "cell_type": "markdown",
   "metadata": {},
   "source": [
    "Total line number is huge so just load 1 million row of data for analysis"
   ]
  },
  {
   "cell_type": "markdown",
   "metadata": {},
   "source": [
    "## Load Data"
   ]
  },
  {
   "cell_type": "code",
   "execution_count": 105,
   "metadata": {},
   "outputs": [
    {
     "name": "stdout",
     "output_type": "stream",
     "text": [
      "       ip  app  device  os  channel          click_time attributed_time  \\\n",
      "0   83230    3       1  13      379 2017-11-06 14:32:21             NaN   \n",
      "1   17357    3       1  19      379 2017-11-06 14:33:34             NaN   \n",
      "2   35810    3       1  13      379 2017-11-06 14:34:12             NaN   \n",
      "3   45745   14       1  13      478 2017-11-06 14:34:52             NaN   \n",
      "4  161007    3       1  13      379 2017-11-06 14:35:08             NaN   \n",
      "\n",
      "   is_attributed  \n",
      "0              0  \n",
      "1              0  \n",
      "2              0  \n",
      "3              0  \n",
      "4              0  \n",
      "   click_id      ip  app  device  os  channel          click_time\n",
      "0         0    5744    9       1   3      107 2017-11-10 04:00:00\n",
      "1         1  119901    9       1   3      466 2017-11-10 04:00:00\n",
      "2         2   72287   21       1  19      128 2017-11-10 04:00:00\n",
      "3         3   78477   15       1  13      111 2017-11-10 04:00:00\n",
      "4         4  123080   12       1  13      328 2017-11-10 04:00:00\n"
     ]
    }
   ],
   "source": [
    "# Load sample training data\n",
    "df_train = pd.read_csv('./data/train.csv', nrows=1000000, parse_dates=['click_time'])\n",
    "df_test = pd.read_csv('./data/test.csv', nrows=1000000, parse_dates=['click_time'])\n",
    "\n",
    "# Show head\n",
    "print(df_train.head())\n",
    "\n",
    "# show shape\n",
    "print(df_test.head())"
   ]
  },
  {
   "cell_type": "markdown",
   "metadata": {},
   "source": [
    "- Values are encoded"
   ]
  },
  {
   "cell_type": "markdown",
   "metadata": {},
   "source": [
    "## Check feature unique value"
   ]
  },
  {
   "cell_type": "code",
   "execution_count": 167,
   "metadata": {},
   "outputs": [],
   "source": [
    "def check_cunique(df,cols):\n",
    "    \"\"\"check unique values for each column\n",
    "    df: data frame. \n",
    "    cols: list. The columns of data frame to be counted\n",
    "    \"\"\"\n",
    "    df_nunique = df[cols].nunique().to_frame()\n",
    "    df_nunique = df_nunique.reset_index().rename(columns={'index': 'feat',0:'nunique'})\n",
    "    return df_nunique"
   ]
  },
  {
   "cell_type": "code",
   "execution_count": 168,
   "metadata": {},
   "outputs": [
    {
     "data": {
      "text/html": [
       "<div>\n",
       "<style scoped>\n",
       "    .dataframe tbody tr th:only-of-type {\n",
       "        vertical-align: middle;\n",
       "    }\n",
       "\n",
       "    .dataframe tbody tr th {\n",
       "        vertical-align: top;\n",
       "    }\n",
       "\n",
       "    .dataframe thead th {\n",
       "        text-align: right;\n",
       "    }\n",
       "</style>\n",
       "<table border=\"1\" class=\"dataframe\">\n",
       "  <thead>\n",
       "    <tr style=\"text-align: right;\">\n",
       "      <th></th>\n",
       "      <th>feat</th>\n",
       "      <th>nunique</th>\n",
       "    </tr>\n",
       "  </thead>\n",
       "  <tbody>\n",
       "    <tr>\n",
       "      <th>0</th>\n",
       "      <td>ip</td>\n",
       "      <td>39611</td>\n",
       "    </tr>\n",
       "    <tr>\n",
       "      <th>1</th>\n",
       "      <td>app</td>\n",
       "      <td>214</td>\n",
       "    </tr>\n",
       "    <tr>\n",
       "      <th>2</th>\n",
       "      <td>device</td>\n",
       "      <td>298</td>\n",
       "    </tr>\n",
       "    <tr>\n",
       "      <th>3</th>\n",
       "      <td>os</td>\n",
       "      <td>160</td>\n",
       "    </tr>\n",
       "    <tr>\n",
       "      <th>4</th>\n",
       "      <td>channel</td>\n",
       "      <td>154</td>\n",
       "    </tr>\n",
       "  </tbody>\n",
       "</table>\n",
       "</div>"
      ],
      "text/plain": [
       "      feat  nunique\n",
       "0       ip    39611\n",
       "1      app      214\n",
       "2   device      298\n",
       "3       os      160\n",
       "4  channel      154"
      ]
     },
     "execution_count": 168,
     "metadata": {},
     "output_type": "execute_result"
    }
   ],
   "source": [
    "df_nunique = check_cunique(df_train,['ip', 'app', 'device', 'os', 'channel'])\n",
    "df_nunique"
   ]
  },
  {
   "cell_type": "code",
   "execution_count": 132,
   "metadata": {},
   "outputs": [
    {
     "data": {
      "text/plain": [
       "<matplotlib.axes._subplots.AxesSubplot at 0x7f2be34734a8>"
      ]
     },
     "execution_count": 132,
     "metadata": {},
     "output_type": "execute_result"
    },
    {
     "data": {
      "image/png": "[encoded data removed]",
      "text/plain": [
       "<Figure size 1080x576 with 1 Axes>"
      ]
     },
     "metadata": {},
     "output_type": "display_data"
    }
   ],
   "source": [
    "plt.figure(figsize=(15, 8))\n",
    "sns.set(font_scale=1.2)\n",
    "sns.barplot(x=\"feat\" ,y=\"nunique\", data=df_nunique,log=True)"
   ]
  },
  {
   "cell_type": "code",
   "execution_count": 219,
   "metadata": {},
   "outputs": [],
   "source": [
    "def feat_value_count(df,colname):\n",
    "    \"\"\"value count of each feature\n",
    "    \n",
    "    Args\n",
    "    df: data frame.\n",
    "    colname: string. Name of to be valued column\n",
    "    \n",
    "    Returns\n",
    "    df_count: data frame.\n",
    "    \"\"\"\n",
    "    df_count = df[colname].value_counts().to_frame().reset_index()\n",
    "    df_count = df_count.rename(columns={'index':colname+'_values',colname:'counts'})\n",
    "    return df_count"
   ]
  },
  {
   "cell_type": "code",
   "execution_count": 220,
   "metadata": {},
   "outputs": [
    {
     "data": {
      "text/html": [
       "<div>\n",
       "<style scoped>\n",
       "    .dataframe tbody tr th:only-of-type {\n",
       "        vertical-align: middle;\n",
       "    }\n",
       "\n",
       "    .dataframe tbody tr th {\n",
       "        vertical-align: top;\n",
       "    }\n",
       "\n",
       "    .dataframe thead th {\n",
       "        text-align: right;\n",
       "    }\n",
       "</style>\n",
       "<table border=\"1\" class=\"dataframe\">\n",
       "  <thead>\n",
       "    <tr style=\"text-align: right;\">\n",
       "      <th></th>\n",
       "      <th>is_attributed_values</th>\n",
       "      <th>counts</th>\n",
       "    </tr>\n",
       "  </thead>\n",
       "  <tbody>\n",
       "    <tr>\n",
       "      <th>0</th>\n",
       "      <td>0</td>\n",
       "      <td>998307</td>\n",
       "    </tr>\n",
       "    <tr>\n",
       "      <th>1</th>\n",
       "      <td>1</td>\n",
       "      <td>1693</td>\n",
       "    </tr>\n",
       "  </tbody>\n",
       "</table>\n",
       "</div>"
      ],
      "text/plain": [
       "   is_attributed_values  counts\n",
       "0                     0  998307\n",
       "1                     1    1693"
      ]
     },
     "execution_count": 220,
     "metadata": {},
     "output_type": "execute_result"
    }
   ],
   "source": [
    "feat_value_count(df_train,'is_attributed')"
   ]
  },
  {
   "cell_type": "code",
   "execution_count": 221,
   "metadata": {},
   "outputs": [
    {
     "data": {
      "text/html": [
       "<div>\n",
       "<style scoped>\n",
       "    .dataframe tbody tr th:only-of-type {\n",
       "        vertical-align: middle;\n",
       "    }\n",
       "\n",
       "    .dataframe tbody tr th {\n",
       "        vertical-align: top;\n",
       "    }\n",
       "\n",
       "    .dataframe thead th {\n",
       "        text-align: right;\n",
       "    }\n",
       "</style>\n",
       "<table border=\"1\" class=\"dataframe\">\n",
       "  <thead>\n",
       "    <tr style=\"text-align: right;\">\n",
       "      <th></th>\n",
       "      <th>app_values</th>\n",
       "      <th>counts</th>\n",
       "    </tr>\n",
       "  </thead>\n",
       "  <tbody>\n",
       "    <tr>\n",
       "      <th>0</th>\n",
       "      <td>12</td>\n",
       "      <td>141851</td>\n",
       "    </tr>\n",
       "    <tr>\n",
       "      <th>1</th>\n",
       "      <td>3</td>\n",
       "      <td>136810</td>\n",
       "    </tr>\n",
       "    <tr>\n",
       "      <th>2</th>\n",
       "      <td>15</td>\n",
       "      <td>114425</td>\n",
       "    </tr>\n",
       "    <tr>\n",
       "      <th>3</th>\n",
       "      <td>2</td>\n",
       "      <td>114340</td>\n",
       "    </tr>\n",
       "    <tr>\n",
       "      <th>4</th>\n",
       "      <td>9</td>\n",
       "      <td>112038</td>\n",
       "    </tr>\n",
       "  </tbody>\n",
       "</table>\n",
       "</div>"
      ],
      "text/plain": [
       "   app_values  counts\n",
       "0          12  141851\n",
       "1           3  136810\n",
       "2          15  114425\n",
       "3           2  114340\n",
       "4           9  112038"
      ]
     },
     "execution_count": 221,
     "metadata": {},
     "output_type": "execute_result"
    }
   ],
   "source": [
    "feat_value_count(df_train,'app').head()"
   ]
  },
  {
   "cell_type": "markdown",
   "metadata": {},
   "source": [
    "## Check missing value"
   ]
  },
  {
   "cell_type": "code",
   "execution_count": 196,
   "metadata": {},
   "outputs": [],
   "source": [
    "def check_missing(df,cols=None,axis=0):\n",
    "    \"\"\"check data frame column missing situation\n",
    "    Args\n",
    "    df: data frame.\n",
    "    cols: list. List of column names\n",
    "    \n",
    "    Returns\n",
    "    missing_info: data frame. \n",
    "    \"\"\"\n",
    "    if cols != None:\n",
    "        df = df[cols]\n",
    "    missing_num = df.isnull().sum(axis).to_frame().rename(columns={0:'missing_num'})\n",
    "    missing_num['minssing_percent'] = df.isnull().mean(axis)*100\n",
    "    return missing_num.sort_values(by='minssing_percent',ascending = False) "
   ]
  },
  {
   "cell_type": "code",
   "execution_count": 199,
   "metadata": {},
   "outputs": [
    {
     "name": "stdout",
     "output_type": "stream",
     "text": [
      "                 missing_num  minssing_percent\n",
      "attributed_time       998307           99.8307\n",
      "ip                         0            0.0000\n",
      "app                        0            0.0000\n",
      "device                     0            0.0000\n",
      "os                         0            0.0000\n",
      "channel                    0            0.0000\n",
      "click_time                 0            0.0000\n",
      "is_attributed              0            0.0000\n",
      "day                        0            0.0000\n",
      "hour                       0            0.0000\n",
      "minute                     0            0.0000\n",
      "second                     0            0.0000\n",
      "        missing_num  minssing_percent\n",
      "0                 1          8.333333\n",
      "666431            1          8.333333\n",
      "666403            1          8.333333\n",
      "666404            1          8.333333\n",
      "666405            1          8.333333\n"
     ]
    }
   ],
   "source": [
    "print(check_missing(df_train))\n",
    "print(check_missing(df_train,axis=1).head())"
   ]
  },
  {
   "cell_type": "markdown",
   "metadata": {},
   "source": [
    "# Time Feature"
   ]
  },
  {
   "cell_type": "markdown",
   "metadata": {},
   "source": [
    "First extract day, minute, hour, second from the click_time."
   ]
  },
  {
   "cell_type": "code",
   "execution_count": 7,
   "metadata": {},
   "outputs": [
    {
     "data": {
      "text/html": [
       "<div>\n",
       "<style scoped>\n",
       "    .dataframe tbody tr th:only-of-type {\n",
       "        vertical-align: middle;\n",
       "    }\n",
       "\n",
       "    .dataframe tbody tr th {\n",
       "        vertical-align: top;\n",
       "    }\n",
       "\n",
       "    .dataframe thead th {\n",
       "        text-align: right;\n",
       "    }\n",
       "</style>\n",
       "<table border=\"1\" class=\"dataframe\">\n",
       "  <thead>\n",
       "    <tr style=\"text-align: right;\">\n",
       "      <th></th>\n",
       "      <th>ip</th>\n",
       "      <th>app</th>\n",
       "      <th>device</th>\n",
       "      <th>os</th>\n",
       "      <th>channel</th>\n",
       "      <th>click_time</th>\n",
       "      <th>attributed_time</th>\n",
       "      <th>is_attributed</th>\n",
       "      <th>day</th>\n",
       "      <th>hour</th>\n",
       "      <th>minute</th>\n",
       "      <th>second</th>\n",
       "    </tr>\n",
       "  </thead>\n",
       "  <tbody>\n",
       "    <tr>\n",
       "      <th>0</th>\n",
       "      <td>87540</td>\n",
       "      <td>12</td>\n",
       "      <td>1</td>\n",
       "      <td>13</td>\n",
       "      <td>497</td>\n",
       "      <td>2017-11-07 09:30:38</td>\n",
       "      <td>NaN</td>\n",
       "      <td>0</td>\n",
       "      <td>7</td>\n",
       "      <td>9</td>\n",
       "      <td>30</td>\n",
       "      <td>38</td>\n",
       "    </tr>\n",
       "    <tr>\n",
       "      <th>1</th>\n",
       "      <td>105560</td>\n",
       "      <td>25</td>\n",
       "      <td>1</td>\n",
       "      <td>17</td>\n",
       "      <td>259</td>\n",
       "      <td>2017-11-07 13:40:27</td>\n",
       "      <td>NaN</td>\n",
       "      <td>0</td>\n",
       "      <td>7</td>\n",
       "      <td>13</td>\n",
       "      <td>40</td>\n",
       "      <td>27</td>\n",
       "    </tr>\n",
       "    <tr>\n",
       "      <th>2</th>\n",
       "      <td>101424</td>\n",
       "      <td>12</td>\n",
       "      <td>1</td>\n",
       "      <td>19</td>\n",
       "      <td>212</td>\n",
       "      <td>2017-11-07 18:05:24</td>\n",
       "      <td>NaN</td>\n",
       "      <td>0</td>\n",
       "      <td>7</td>\n",
       "      <td>18</td>\n",
       "      <td>5</td>\n",
       "      <td>24</td>\n",
       "    </tr>\n",
       "    <tr>\n",
       "      <th>3</th>\n",
       "      <td>94584</td>\n",
       "      <td>13</td>\n",
       "      <td>1</td>\n",
       "      <td>13</td>\n",
       "      <td>477</td>\n",
       "      <td>2017-11-07 04:58:08</td>\n",
       "      <td>NaN</td>\n",
       "      <td>0</td>\n",
       "      <td>7</td>\n",
       "      <td>4</td>\n",
       "      <td>58</td>\n",
       "      <td>8</td>\n",
       "    </tr>\n",
       "    <tr>\n",
       "      <th>4</th>\n",
       "      <td>68413</td>\n",
       "      <td>12</td>\n",
       "      <td>1</td>\n",
       "      <td>1</td>\n",
       "      <td>178</td>\n",
       "      <td>2017-11-09 09:00:09</td>\n",
       "      <td>NaN</td>\n",
       "      <td>0</td>\n",
       "      <td>9</td>\n",
       "      <td>9</td>\n",
       "      <td>0</td>\n",
       "      <td>9</td>\n",
       "    </tr>\n",
       "  </tbody>\n",
       "</table>\n",
       "</div>"
      ],
      "text/plain": [
       "       ip  app  device  os  channel          click_time attributed_time  \\\n",
       "0   87540   12       1  13      497 2017-11-07 09:30:38             NaN   \n",
       "1  105560   25       1  17      259 2017-11-07 13:40:27             NaN   \n",
       "2  101424   12       1  19      212 2017-11-07 18:05:24             NaN   \n",
       "3   94584   13       1  13      477 2017-11-07 04:58:08             NaN   \n",
       "4   68413   12       1   1      178 2017-11-09 09:00:09             NaN   \n",
       "\n",
       "   is_attributed  day  hour  minute  second  \n",
       "0              0    7     9      30      38  \n",
       "1              0    7    13      40      27  \n",
       "2              0    7    18       5      24  \n",
       "3              0    7     4      58       8  \n",
       "4              0    9     9       0       9  "
      ]
     },
     "execution_count": 7,
     "metadata": {},
     "output_type": "execute_result"
    }
   ],
   "source": [
    "X_train['day'] = X_train['click_time'].dt.day.astype('uint8')\n",
    "X_train['hour'] = X_train['click_time'].dt.hour.astype('uint8')\n",
    "X_train['minute'] = X_train['click_time'].dt.minute.astype('uint8')\n",
    "X_train['second'] = X_train['click_time'].dt.second.astype('uint8')\n",
    "X_train.head()"
   ]
  },
  {
   "cell_type": "markdown",
   "metadata": {},
   "source": [
    "# Confidence Feature"
   ]
  },
  {
   "cell_type": "markdown",
   "metadata": {},
   "source": [
    "Some ips, apps, devices, etc. might have higher frequencies of is_attributed"
   ]
  },
  {
   "cell_type": "code",
   "execution_count": 69,
   "metadata": {},
   "outputs": [],
   "source": [
    "cats =['ip', 'app', 'device', 'os', 'channel'] \n",
    "# Find frequency of is_attributed for each category\n",
    "freqs = {}\n",
    "for cols in cats:\n",
    "    \n",
    "    # New feature name\n",
    "    new_feat = cols + '_confRate'    \n",
    "    \n",
    "    # Perform the groupby\n",
    "    group_object = X_train.groupby(cols)\n",
    "    \n",
    "    # category attribution\n",
    "    cat_atrributed = group_object['is_attributed'].sum()\n",
    "    \n",
    "    # category views\n",
    "    cat_counts = group_object['is_attributed'].count()\n",
    "    \n",
    "    # category attribution rates\n",
    "    cat_rates = cat_atrributed/cat_counts\n",
    "    \n",
    "    # attributuion confidence level\n",
    "    cat_confs = np.log(cat_counts+1)/np.log(100000) # 1000 views -> 60% confidence, 100 views -> 40% confidence \n",
    "    cat_confs = [min(1,x) for x in cat_confs]\n",
    "    # category final attribution\n",
    "    cat_score = cat_rates * cat_confs\n",
    "    cat_score = cat_score.to_frame().reset_index().rename(index=str, columns={'is_attributed': new_feat})\n",
    "    \n",
    "    # merge\n",
    "    X_train = X_train.merge(cat_score,on=cols, how='left')"
   ]
  },
  {
   "cell_type": "code",
   "execution_count": 70,
   "metadata": {},
   "outputs": [
    {
     "data": {
      "text/html": [
       "<div>\n",
       "<style scoped>\n",
       "    .dataframe tbody tr th:only-of-type {\n",
       "        vertical-align: middle;\n",
       "    }\n",
       "\n",
       "    .dataframe tbody tr th {\n",
       "        vertical-align: top;\n",
       "    }\n",
       "\n",
       "    .dataframe thead th {\n",
       "        text-align: right;\n",
       "    }\n",
       "</style>\n",
       "<table border=\"1\" class=\"dataframe\">\n",
       "  <thead>\n",
       "    <tr style=\"text-align: right;\">\n",
       "      <th></th>\n",
       "      <th>ip</th>\n",
       "      <th>app</th>\n",
       "      <th>device</th>\n",
       "      <th>os</th>\n",
       "      <th>channel</th>\n",
       "      <th>click_time</th>\n",
       "      <th>attributed_time</th>\n",
       "      <th>is_attributed</th>\n",
       "      <th>day</th>\n",
       "      <th>hour</th>\n",
       "      <th>minute</th>\n",
       "      <th>second</th>\n",
       "      <th>ip_confRate</th>\n",
       "      <th>app_confRate</th>\n",
       "      <th>device_confRate</th>\n",
       "      <th>os_confRate</th>\n",
       "      <th>channel_confRate</th>\n",
       "    </tr>\n",
       "  </thead>\n",
       "  <tbody>\n",
       "    <tr>\n",
       "      <th>0</th>\n",
       "      <td>87540</td>\n",
       "      <td>12</td>\n",
       "      <td>1</td>\n",
       "      <td>13</td>\n",
       "      <td>497</td>\n",
       "      <td>2017-11-07 09:30:38</td>\n",
       "      <td>NaN</td>\n",
       "      <td>0</td>\n",
       "      <td>7</td>\n",
       "      <td>9</td>\n",
       "      <td>30</td>\n",
       "      <td>38</td>\n",
       "      <td>0.0</td>\n",
       "      <td>0.000062</td>\n",
       "      <td>0.00154</td>\n",
       "      <td>0.001019</td>\n",
       "      <td>0.0</td>\n",
       "    </tr>\n",
       "    <tr>\n",
       "      <th>1</th>\n",
       "      <td>105560</td>\n",
       "      <td>25</td>\n",
       "      <td>1</td>\n",
       "      <td>17</td>\n",
       "      <td>259</td>\n",
       "      <td>2017-11-07 13:40:27</td>\n",
       "      <td>NaN</td>\n",
       "      <td>0</td>\n",
       "      <td>7</td>\n",
       "      <td>13</td>\n",
       "      <td>40</td>\n",
       "      <td>27</td>\n",
       "      <td>0.0</td>\n",
       "      <td>0.000000</td>\n",
       "      <td>0.00154</td>\n",
       "      <td>0.000853</td>\n",
       "      <td>0.0</td>\n",
       "    </tr>\n",
       "    <tr>\n",
       "      <th>2</th>\n",
       "      <td>101424</td>\n",
       "      <td>12</td>\n",
       "      <td>1</td>\n",
       "      <td>19</td>\n",
       "      <td>212</td>\n",
       "      <td>2017-11-07 18:05:24</td>\n",
       "      <td>NaN</td>\n",
       "      <td>0</td>\n",
       "      <td>7</td>\n",
       "      <td>18</td>\n",
       "      <td>5</td>\n",
       "      <td>24</td>\n",
       "      <td>0.0</td>\n",
       "      <td>0.000062</td>\n",
       "      <td>0.00154</td>\n",
       "      <td>0.001504</td>\n",
       "      <td>0.0</td>\n",
       "    </tr>\n",
       "    <tr>\n",
       "      <th>3</th>\n",
       "      <td>94584</td>\n",
       "      <td>13</td>\n",
       "      <td>1</td>\n",
       "      <td>13</td>\n",
       "      <td>477</td>\n",
       "      <td>2017-11-07 04:58:08</td>\n",
       "      <td>NaN</td>\n",
       "      <td>0</td>\n",
       "      <td>7</td>\n",
       "      <td>4</td>\n",
       "      <td>58</td>\n",
       "      <td>8</td>\n",
       "      <td>0.0</td>\n",
       "      <td>0.000000</td>\n",
       "      <td>0.00154</td>\n",
       "      <td>0.001019</td>\n",
       "      <td>0.0</td>\n",
       "    </tr>\n",
       "    <tr>\n",
       "      <th>4</th>\n",
       "      <td>68413</td>\n",
       "      <td>12</td>\n",
       "      <td>1</td>\n",
       "      <td>1</td>\n",
       "      <td>178</td>\n",
       "      <td>2017-11-09 09:00:09</td>\n",
       "      <td>NaN</td>\n",
       "      <td>0</td>\n",
       "      <td>9</td>\n",
       "      <td>9</td>\n",
       "      <td>0</td>\n",
       "      <td>9</td>\n",
       "      <td>0.0</td>\n",
       "      <td>0.000062</td>\n",
       "      <td>0.00154</td>\n",
       "      <td>0.000519</td>\n",
       "      <td>0.0</td>\n",
       "    </tr>\n",
       "  </tbody>\n",
       "</table>\n",
       "</div>"
      ],
      "text/plain": [
       "       ip  app  device  os  channel          click_time attributed_time  \\\n",
       "0   87540   12       1  13      497 2017-11-07 09:30:38             NaN   \n",
       "1  105560   25       1  17      259 2017-11-07 13:40:27             NaN   \n",
       "2  101424   12       1  19      212 2017-11-07 18:05:24             NaN   \n",
       "3   94584   13       1  13      477 2017-11-07 04:58:08             NaN   \n",
       "4   68413   12       1   1      178 2017-11-09 09:00:09             NaN   \n",
       "\n",
       "   is_attributed  day  hour  minute  second  ip_confRate  app_confRate  \\\n",
       "0              0    7     9      30      38          0.0      0.000062   \n",
       "1              0    7    13      40      27          0.0      0.000000   \n",
       "2              0    7    18       5      24          0.0      0.000062   \n",
       "3              0    7     4      58       8          0.0      0.000000   \n",
       "4              0    9     9       0       9          0.0      0.000062   \n",
       "\n",
       "   device_confRate  os_confRate  channel_confRate  \n",
       "0          0.00154     0.001019               0.0  \n",
       "1          0.00154     0.000853               0.0  \n",
       "2          0.00154     0.001504               0.0  \n",
       "3          0.00154     0.001019               0.0  \n",
       "4          0.00154     0.000519               0.0  "
      ]
     },
     "execution_count": 70,
     "metadata": {},
     "output_type": "execute_result"
    }
   ],
   "source": [
    "X_train.head()"
   ]
  },
  {
   "cell_type": "code",
   "execution_count": 71,
   "metadata": {},
   "outputs": [
    {
     "data": {
      "text/plain": [
       "(100000, 17)"
      ]
     },
     "execution_count": 71,
     "metadata": {},
     "output_type": "execute_result"
    }
   ],
   "source": [
    "X_train.shape"
   ]
  }
 ],
 "metadata": {
  "kernelspec": {
   "display_name": "Python 3",
   "language": "python",
   "name": "python3"
  },
  "language_info": {
   "codemirror_mode": {
    "name": "ipython",
    "version": 3
   },
   "file_extension": ".py",
   "mimetype": "text/x-python",
   "name": "python",
   "nbconvert_exporter": "python",
   "pygments_lexer": "ipython3",
   "version": "3.6.5"
  }
 },
 "nbformat": 4,
 "nbformat_minor": 2
}
